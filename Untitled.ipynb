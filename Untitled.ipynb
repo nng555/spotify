{
 "cells": [
  {
   "cell_type": "code",
   "execution_count": 86,
   "metadata": {
    "collapsed": false
   },
   "outputs": [],
   "source": [
    "import spotipy\n",
    "from spotipy.oauth2 import SpotifyClientCredentials\n",
    "import json\n",
    "import glob\n",
    "import sys\n",
    "import itertools\n",
    "from scipy.spatial import distance\n",
    "import numpy as np\n",
    "import numpy as np\n",
    "import matplotlib.pyplot as plt\n",
    "import seaborn as sns"
   ]
  },
  {
   "cell_type": "code",
   "execution_count": 2,
   "metadata": {
    "collapsed": true
   },
   "outputs": [],
   "source": [
    "SPOTIPY_CLIENT_ID = '4192c5a6adeb4aa3966c78a1e81bfa21'\n",
    "SPOTIPY_CLIENT_SECRET = '109a60c3fc5e4eefbd894935984f09d3'\n",
    "SPOTIPY_REDIRECT_URI = 'http://localhost/'\n",
    "\n",
    "client_credentials_manager = SpotifyClientCredentials(client_id=SPOTIPY_CLIENT_ID, client_secret=SPOTIPY_CLIENT_SECRET)\n",
    "sp = spotipy.Spotify(client_credentials_manager=client_credentials_manager)\n",
    "sp.trace=False"
   ]
  },
  {
   "cell_type": "code",
   "execution_count": 3,
   "metadata": {
    "collapsed": true
   },
   "outputs": [],
   "source": [
    "def featurize_playlist(playlist):\n",
    "    playlist = [sp.audio_features(str(playlist['tracks'][i]['id'])) for i in range(len(playlist['tracks']))]\n",
    "    feat = []\n",
    "    for track in playlist:\n",
    "        track = track[0]\n",
    "        track_array = []\n",
    "        track_array.append(track['liveness'])\n",
    "        track_array.append(track['valence'])\n",
    "        track_array.append(track['energy'])\n",
    "        track_array.append(track['danceability'])\n",
    "        track_array.append(track['speechiness'])\n",
    "        track_array.append(track['instrumentalness'])\n",
    "        track_array.append(track['tempo'])\n",
    "        track_array.append(track['loudness'])\n",
    "        track_array.append(track['duration_ms'])\n",
    "        #track_array.append(track['popularity'])\n",
    "        track_array.append(track['acousticness'])\n",
    "        feat.append(track_array)\n",
    "    return np.asarray(feat)"
   ]
  },
  {
   "cell_type": "code",
   "execution_count": 30,
   "metadata": {
    "collapsed": true
   },
   "outputs": [],
   "source": [
    "def featurize_user_playlist(playlist):\n",
    "    playlist = [sp.audio_features(str(playlist['tracks']['items'][i]['track']['id'])) for i in range(len(playlist['tracks']['items']))]\n",
    "    feat = []\n",
    "    for track in playlist:\n",
    "        track = track[0]\n",
    "        track_array = []\n",
    "        track_array.append(track['liveness'])\n",
    "        track_array.append(track['valence'])\n",
    "        track_array.append(track['energy'])\n",
    "        track_array.append(track['danceability'])\n",
    "        track_array.append(track['speechiness'])\n",
    "        track_array.append(track['instrumentalness'])\n",
    "        track_array.append(track['tempo'])\n",
    "        track_array.append(track['loudness'])\n",
    "        track_array.append(track['duration_ms'])\n",
    "        #track_array.append(track['popularity'])\n",
    "        track_array.append(track['acousticness'])\n",
    "        feat.append(track_array)\n",
    "    return np.asarray(feat)"
   ]
  },
  {
   "cell_type": "code",
   "execution_count": 35,
   "metadata": {
    "collapsed": false
   },
   "outputs": [],
   "source": [
    "results = sp.user_playlist('craig_pentland', '1aNzsXashjVYNsH2Vni3JG')"
   ]
  },
  {
   "cell_type": "code",
   "execution_count": 144,
   "metadata": {
    "collapsed": false
   },
   "outputs": [
    {
     "name": "stdout",
     "output_type": "stream",
     "text": [
      "('getting average distance for playlist ', './Unbelievable_seeded_tracks.json')\n"
     ]
    }
   ],
   "source": [
    "list_of_files = glob.glob('./Unbelievable_seeded_tracks.json')\n",
    "for file_name in list_of_files[:3]:\n",
    "    data = json.load(open(file_name))\n",
    "    print ('getting average distance for playlist ', file_name)\n",
    "    feat = featurize_playlist(data)"
   ]
  },
  {
   "cell_type": "code",
   "execution_count": 65,
   "metadata": {
    "collapsed": false
   },
   "outputs": [],
   "source": [
    "feat1 = featurize_user_playlist(results)"
   ]
  },
  {
   "cell_type": "code",
   "execution_count": 66,
   "metadata": {
    "collapsed": false
   },
   "outputs": [
    {
     "data": {
      "image/png": "[encoded data removed]",
      "text/plain": [
       "<matplotlib.figure.Figure at 0x10c79ec50>"
      ]
     },
     "metadata": {},
     "output_type": "display_data"
    }
   ],
   "source": [
    "plt.boxplot(feat1)\n",
    "plt.show()"
   ]
  },
  {
   "cell_type": "code",
   "execution_count": 68,
   "metadata": {
    "collapsed": false
   },
   "outputs": [
    {
     "data": {
      "text/plain": [
       "10"
      ]
     },
     "execution_count": 68,
     "metadata": {},
     "output_type": "execute_result"
    }
   ],
   "source": [
    "len(feat1[0])"
   ]
  },
  {
   "cell_type": "code",
   "execution_count": 70,
   "metadata": {
    "collapsed": true
   },
   "outputs": [],
   "source": [
    "feat2 = featurize_user_playlist(sp.user_playlist('1245361450', '48lF4ywcHn6CC8IH4FHmYv'))"
   ]
  },
  {
   "cell_type": "code",
   "execution_count": 51,
   "metadata": {
    "collapsed": true
   },
   "outputs": [],
   "source": [
    "means = json.load(open('./means.json'))\n",
    "stds = json.load(open('./stds.json'))"
   ]
  },
  {
   "cell_type": "code",
   "execution_count": 149,
   "metadata": {
    "collapsed": false
   },
   "outputs": [
    {
     "data": {
      "text/plain": [
       "[0.2024928669639674,\n",
       " 0.4312482871488256,\n",
       " 0.5748756884165647,\n",
       " 0.5359802410589561,\n",
       " 0.11278499625922643,\n",
       " 0.3037065639481328,\n",
       " 118.97835803618203,\n",
       " -10.634731824849169,\n",
       " 249196.8906633834,\n",
       " 0.34759251399844815]"
      ]
     },
     "execution_count": 149,
     "metadata": {},
     "output_type": "execute_result"
    }
   ],
   "source": [
    "means"
   ]
  },
  {
   "cell_type": "code",
   "execution_count": 150,
   "metadata": {
    "collapsed": false
   },
   "outputs": [
    {
     "data": {
      "text/plain": [
       "[0.17820422394619126,\n",
       " 0.26783514891424043,\n",
       " 0.27753448429643324,\n",
       " 0.19730380618715157,\n",
       " 0.16565338307592328,\n",
       " 0.38771969111870846,\n",
       " 31.030260207576074,\n",
       " 6.395862808085539,\n",
       " 187056.06371748686,\n",
       " 0.3615948312719082]"
      ]
     },
     "execution_count": 150,
     "metadata": {},
     "output_type": "execute_result"
    }
   ],
   "source": [
    "stds"
   ]
  },
  {
   "cell_type": "code",
   "execution_count": 52,
   "metadata": {
    "collapsed": true
   },
   "outputs": [],
   "source": [
    "def whiten(feat):\n",
    "    new_feat = []\n",
    "    for ex in feat:\n",
    "        new_ex = [0 for i in range(len(ex))]\n",
    "        for i in range(len(ex)):\n",
    "            new_ex[i] = (ex[i] - means[i])/stds[i]\n",
    "        new_feat.append(new_ex)\n",
    "    return new_feat"
   ]
  },
  {
   "cell_type": "code",
   "execution_count": 71,
   "metadata": {
    "collapsed": true
   },
   "outputs": [],
   "source": [
    "feato = whiten(feat)\n",
    "feat1o = whiten(feat1)\n",
    "feat2o = whiten(feat2)"
   ]
  },
  {
   "cell_type": "code",
   "execution_count": 108,
   "metadata": {
    "collapsed": true
   },
   "outputs": [],
   "source": [
    "sns.set()\n",
    "sns.despine()\n",
    "sns.set_context('talk')\n",
    "sns.set_style('white')"
   ]
  },
  {
   "cell_type": "code",
   "execution_count": 147,
   "metadata": {
    "collapsed": false
   },
   "outputs": [
    {
     "data": {
      "image/png": "[encoded data removed]",
      "text/plain": [
       "<matplotlib.figure.Figure at 0x1105b67d0>"
      ]
     },
     "metadata": {},
     "output_type": "display_data"
    }
   ],
   "source": [
    "plt.boxplot(np.asarray(feato))\n",
    "plt.ylim(-3, 3)\n",
    "plt.plot(range(1, 11), feat2o[0], 'bo')\n",
    "plt.show()"
   ]
  },
  {
   "cell_type": "code",
   "execution_count": null,
   "metadata": {
    "collapsed": true
   },
   "outputs": [],
   "source": [
    "'liveness','valence','energy','danceability','speechiness','instrumentalness','tempo','loudness','duration_ms', 'acousticness'"
   ]
  },
  {
   "cell_type": "code",
   "execution_count": 132,
   "metadata": {
    "collapsed": false
   },
   "outputs": [
    {
     "data": {
      "image/png": "[encoded data removed]",
      "text/plain": [
       "<matplotlib.figure.Figure at 0x10ff60910>"
      ]
     },
     "metadata": {},
     "output_type": "display_data"
    }
   ],
   "source": [
    "plt.boxplot(np.asarray(feat1o))\n",
    "plt.ylim(-3, 3)\n",
    "plt.plot(range(1, 11), feat2o[0], 'bo')\n",
    "plt.show()"
   ]
  },
  {
   "cell_type": "code",
   "execution_count": 136,
   "metadata": {
    "collapsed": false
   },
   "outputs": [
    {
     "data": {
      "image/png": "[encoded data removed]",
      "text/plain": [
       "<matplotlib.figure.Figure at 0x10ff9e490>"
      ]
     },
     "metadata": {},
     "output_type": "display_data"
    }
   ],
   "source": [
    "plt.boxplot(np.asarray(feat2o))\n",
    "plt.ylim(-3, 3)\n",
    "plt.plot(range(1, 11), feat2o[0], 'bo')\n",
    "plt.show()"
   ]
  },
  {
   "cell_type": "code",
   "execution_count": 156,
   "metadata": {
    "collapsed": false
   },
   "outputs": [
    {
     "data": {
      "image/png": "[encoded data removed]",
      "text/plain": [
       "<matplotlib.figure.Figure at 0x110576b10>"
      ]
     },
     "metadata": {},
     "output_type": "display_data"
    }
   ],
   "source": [
    "plt.boxplot(np.asarray(feat3o))\n",
    "plt.ylim(-3, 3)\n",
    "plt.plot(range(1, 11), feat3o[0], 'bo')\n",
    "plt.show()"
   ]
  },
  {
   "cell_type": "code",
   "execution_count": 80,
   "metadata": {
    "collapsed": false
   },
   "outputs": [],
   "source": [
    "feat_names = ['liveness','valence','energy','danceability','speechiness','instrumentalness','tempo','loudness','duration_ms', 'acousticness']"
   ]
  },
  {
   "cell_type": "code",
   "execution_count": 148,
   "metadata": {
    "collapsed": false
   },
   "outputs": [
    {
     "data": {
      "text/plain": [
       "182.94900000000001"
      ]
     },
     "execution_count": 148,
     "metadata": {},
     "output_type": "execute_result"
    }
   ],
   "source": [
    "feat2[0][6]"
   ]
  },
  {
   "cell_type": "code",
   "execution_count": 151,
   "metadata": {
    "collapsed": false
   },
   "outputs": [
    {
     "name": "stdout",
     "output_type": "stream",
     "text": [
      "('getting average distance for playlist ', './Autumn Leaves_seeded_tracks.json')\n"
     ]
    }
   ],
   "source": [
    "list_of_files = glob.glob('./Autumn Leaves_seeded_tracks.json')\n",
    "for file_name in list_of_files[:3]:\n",
    "    data = json.load(open(file_name))\n",
    "    print ('getting average distance for playlist ', file_name)\n",
    "    feat3 = featurize_playlist(data)"
   ]
  },
  {
   "cell_type": "code",
   "execution_count": 152,
   "metadata": {
    "collapsed": true
   },
   "outputs": [],
   "source": [
    "feat3o = np.asarray(whiten(feat3))"
   ]
  },
  {
   "cell_type": "code",
   "execution_count": null,
   "metadata": {
    "collapsed": true
   },
   "outputs": [],
   "source": []
  }
 ],
 "metadata": {
  "kernelspec": {
   "display_name": "Python 2",
   "language": "python",
   "name": "python2"
  },
  "language_info": {
   "codemirror_mode": {
    "name": "ipython",
    "version": 2
   },
   "file_extension": ".py",
   "mimetype": "text/x-python",
   "name": "python",
   "nbconvert_exporter": "python",
   "pygments_lexer": "ipython2",
   "version": "2.7.11"
  }
 },
 "nbformat": 4,
 "nbformat_minor": 2
}
